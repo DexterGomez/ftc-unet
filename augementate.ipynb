{
 "cells": [
  {
   "cell_type": "code",
   "execution_count": 1,
   "metadata": {},
   "outputs": [],
   "source": [
    "from glob import glob\n",
    "import os\n",
    "import random"
   ]
  },
  {
   "cell_type": "code",
   "execution_count": 32,
   "metadata": {},
   "outputs": [
    {
     "name": "stdout",
     "output_type": "stream",
     "text": [
      "384\n",
      "['AI-25-1-M1-20x-001', 'AI-25-1-M1-20x-002']\n"
     ]
    }
   ],
   "source": [
    "mask_images = sorted(glob(os.path.join('data/masks', '*.png')))\n",
    "file_names = [file[13:-4] for file in mask_images]\n",
    "\n",
    "print(len(file_names))\n",
    "print(file_names[:2])"
   ]
  },
  {
   "cell_type": "code",
   "execution_count": 26,
   "metadata": {},
   "outputs": [],
   "source": [
    "src_dir_imgs = \"r_imgs/\"\n",
    "src_dir_mask = \"masks/\""
   ]
  },
  {
   "cell_type": "code",
   "execution_count": 27,
   "metadata": {},
   "outputs": [],
   "source": [
    "def read_csv_as_list(filename):\n",
    "    data = []\n",
    "    with open(filename, 'r') as file:\n",
    "        reader = csv.reader(file)\n",
    "        for row in reader:\n",
    "            data.append(row)\n",
    "    return data[0]"
   ]
  },
  {
   "cell_type": "code",
   "execution_count": 29,
   "metadata": {},
   "outputs": [
    {
     "name": "stdout",
     "output_type": "stream",
     "text": [
      "304\n",
      "['AI-25-1-M1-20x-004', 'AI-25-6-M2-20x-044']\n"
     ]
    }
   ],
   "source": [
    "train = read_csv_as_list('lists/train.csv')\n",
    "print(len(train))\n",
    "print(train[:2])"
   ]
  },
  {
   "cell_type": "code",
   "execution_count": 30,
   "metadata": {},
   "outputs": [
    {
     "name": "stdout",
     "output_type": "stream",
     "text": [
      "40\n",
      "['AI-25-1-M1-20x-006', 'AI-25-1-M2-20x-011']\n"
     ]
    }
   ],
   "source": [
    "test = read_csv_as_list('lists/test.csv')\n",
    "print(len(test))\n",
    "print(test[:2])"
   ]
  },
  {
   "cell_type": "code",
   "execution_count": 37,
   "metadata": {},
   "outputs": [],
   "source": [
    "new = train + test"
   ]
  },
  {
   "cell_type": "code",
   "execution_count": 38,
   "metadata": {},
   "outputs": [
    {
     "data": {
      "text/plain": [
       "344"
      ]
     },
     "execution_count": 38,
     "metadata": {},
     "output_type": "execute_result"
    }
   ],
   "source": [
    "len(new)"
   ]
  },
  {
   "cell_type": "code",
   "execution_count": 39,
   "metadata": {},
   "outputs": [],
   "source": [
    "validation_images = read_csv_as_list('lists/validation.csv') + read_csv_as_list('lists/test.csv')"
   ]
  },
  {
   "cell_type": "code",
   "execution_count": 41,
   "metadata": {},
   "outputs": [
    {
     "data": {
      "text/plain": [
       "['AI-25-6-M1-20x-004',\n",
       " 'AI-25-6-M1-20x-005',\n",
       " 'AI-25-6-M1-20x-006',\n",
       " 'AI-25-6-M1-20x-011',\n",
       " 'AI-25-6-M1-20x-012',\n",
       " 'AI-25-6-M1-20x-017',\n",
       " 'AI-25-6-M1-20x-035',\n",
       " 'AI-25-6-M1-20x-036',\n",
       " 'AI-25-6-M1-20x-041',\n",
       " 'AI-25-6-M1-20x-046',\n",
       " 'AI-25-6-M1-20x-051',\n",
       " 'AI-25-6-M2-20x-004',\n",
       " 'AI-25-6-M2-20x-006',\n",
       " 'AI-25-6-M2-20x-019',\n",
       " 'AI-25-6-M2-20x-021',\n",
       " 'AI-25-6-M2-20x-022',\n",
       " 'AI-25-6-M2-20x-025',\n",
       " 'AI-25-6-M2-20x-027',\n",
       " 'AI-25-6-M2-20x-029',\n",
       " 'AI-25-6-M2-20x-032',\n",
       " 'AI-25-6-M2-20x-033',\n",
       " 'AI-25-6-M2-20x-036',\n",
       " 'AI-25-6-M2-20x-038',\n",
       " 'AI-25-6-M2-20x-041',\n",
       " 'AI-25-6-M2-20x-043',\n",
       " 'AI-35-1-M1-20x-005',\n",
       " 'AI-35-1-M1-20x-008',\n",
       " 'AI-35-1-M1-20x-018',\n",
       " 'AI-35-1-M2-20x-001',\n",
       " 'AI-35-1-M2-20x-004',\n",
       " 'AI-35-1-M2-20x-009',\n",
       " 'AI-35-1-M2-20x-015',\n",
       " 'AI-35-1-M2-20x-017',\n",
       " 'AI-35-1-M2-20x-021',\n",
       " 'AI-35-1-M2-20x-025',\n",
       " 'AI-35-1a-M2-20x-001',\n",
       " 'AI-35-1a-M2-20x-002',\n",
       " 'AI-35-2-M1-20x-002',\n",
       " 'AI-35-2-M2-20x-002',\n",
       " 'AI-35-3-M1-20x-005',\n",
       " 'AI-25-1-M1-20x-006',\n",
       " 'AI-25-1-M2-20x-011',\n",
       " 'AI-25-1-M2-20x-012',\n",
       " 'AI-25-1-M2-20x-015',\n",
       " 'AI-25-2-M1-20x-004',\n",
       " 'AI-25-2-M1-20x-005',\n",
       " 'AI-25-2-M1-20x-008',\n",
       " 'AI-25-2-M1-20x-010',\n",
       " 'AI-25-2-M1-20x-015',\n",
       " 'AI-25-2-M1-20x-016',\n",
       " 'AI-25-2-M1-20x-018',\n",
       " 'AI-25-2-M2-20x-001',\n",
       " 'AI-25-2-M2-20x-007',\n",
       " 'AI-25-2-M2-20x-011',\n",
       " 'AI-25-2-M2-20x-015',\n",
       " 'AI-25-3-M1-20x-004',\n",
       " 'AI-25-3-M1-20x-010',\n",
       " 'AI-25-3-M1-20x-011',\n",
       " 'AI-25-3-M1-20x-018',\n",
       " 'AI-25-3-M1-20x-023',\n",
       " 'AI-25-3-M1-20x-025',\n",
       " 'AI-25-3-M2-20x-017',\n",
       " 'AI-25-3-M2-20x-022',\n",
       " 'AI-25-3-M2-20x-024',\n",
       " 'AI-25-3-M2-20x-036',\n",
       " 'AI-25-3-M2-20x-038',\n",
       " 'AI-25-3-M2-20x-039',\n",
       " 'AI-25-4-M1-20x-005',\n",
       " 'AI-25-4-M2-20x-001',\n",
       " 'AI-25-4-M2-20x-006',\n",
       " 'AI-25-4-M2-20x-013',\n",
       " 'AI-25-4-M2-20x-014',\n",
       " 'AI-25-4-M2-20x-018',\n",
       " 'AI-25-5-M1-20x-003',\n",
       " 'AI-25-5-M1-20x-004',\n",
       " 'AI-25-5-M1-20x-013',\n",
       " 'AI-25-5-M1-20x-014',\n",
       " 'AI-25-5-M1-20x-015',\n",
       " 'AI-25-5-M2-20x-005',\n",
       " 'AI-25-5-M2-20x-007']"
      ]
     },
     "execution_count": 41,
     "metadata": {},
     "output_type": "execute_result"
    }
   ],
   "source": [
    "validation_images"
   ]
  },
  {
   "cell_type": "code",
   "execution_count": 42,
   "metadata": {},
   "outputs": [],
   "source": [
    "resized_images = sorted(glob(os.path.join('data/Resized', '*.tif')))"
   ]
  },
  {
   "cell_type": "code",
   "execution_count": 43,
   "metadata": {},
   "outputs": [],
   "source": [
    "for image_index in range(len(resized_images)):\n",
    "    if resized_images[image_index][15:-4] in validation_images:\n",
    "        print('yes')\n",
    "    print()"
   ]
  },
  {
   "cell_type": "code",
   "execution_count": 58,
   "metadata": {},
   "outputs": [
    {
     "data": {
      "text/plain": [
       "6912"
      ]
     },
     "execution_count": 58,
     "metadata": {},
     "output_type": "execute_result"
    }
   ],
   "source": [
    "ai  = sorted(glob(os.path.join('workdata/train/imgs/', '*.tif')))\n",
    "len(ai)"
   ]
  },
  {
   "cell_type": "code",
   "execution_count": 59,
   "metadata": {},
   "outputs": [
    {
     "data": {
      "text/plain": [
       "6912"
      ]
     },
     "execution_count": 59,
     "metadata": {},
     "output_type": "execute_result"
    }
   ],
   "source": [
    "mi = sorted(glob(os.path.join('workdata/train/mask/', '*.png')))\n",
    "len(mi)"
   ]
  },
  {
   "cell_type": "code",
   "execution_count": 40,
   "metadata": {},
   "outputs": [
    {
     "data": {
      "text/plain": [
       "80"
      ]
     },
     "execution_count": 40,
     "metadata": {},
     "output_type": "execute_result"
    }
   ],
   "source": [
    "len(validation_images)"
   ]
  },
  {
   "cell_type": "code",
   "execution_count": 31,
   "metadata": {},
   "outputs": [
    {
     "name": "stdout",
     "output_type": "stream",
     "text": [
      "40\n",
      "['AI-25-6-M1-20x-004', 'AI-25-6-M1-20x-005']\n"
     ]
    }
   ],
   "source": [
    "validation = read_csv_as_list('lists/validation.csv')\n",
    "print(len(validation))\n",
    "print(validation[:2])"
   ]
  },
  {
   "cell_type": "code",
   "execution_count": 34,
   "metadata": {},
   "outputs": [],
   "source": [
    "open_file = open('lists/validation_images.txt','r')\n",
    "validation_images = open_file.read().split('\\n')\n",
    "open_file.close()"
   ]
  },
  {
   "cell_type": "code",
   "execution_count": null,
   "metadata": {},
   "outputs": [],
   "source": []
  },
  {
   "cell_type": "code",
   "execution_count": 36,
   "metadata": {},
   "outputs": [
    {
     "data": {
      "text/plain": [
       "['AI-25-1-M1-20x-015', 'AI-25-6-M2-20x-009']"
      ]
     },
     "execution_count": 36,
     "metadata": {},
     "output_type": "execute_result"
    }
   ],
   "source": [
    "validation_images[:2]"
   ]
  },
  {
   "cell_type": "code",
   "execution_count": null,
   "metadata": {},
   "outputs": [],
   "source": []
  },
  {
   "cell_type": "code",
   "execution_count": null,
   "metadata": {},
   "outputs": [],
   "source": []
  },
  {
   "cell_type": "code",
   "execution_count": null,
   "metadata": {},
   "outputs": [],
   "source": []
  },
  {
   "cell_type": "code",
   "execution_count": 62,
   "metadata": {},
   "outputs": [],
   "source": [
    "resized_images = sorted(glob(os.path.join('data/r_imgs', '*.tif')))\n",
    "mask_images = sorted(glob(os.path.join('data/masks', '*.png')))\n",
    "\n",
    "#get list of validation images\n",
    "def read_csv_as_list(filename):\n",
    "    data = []\n",
    "    with open(filename, 'r') as file:\n",
    "        reader = csv.reader(file)\n",
    "        for row in reader:\n",
    "            data.append(row)\n",
    "    return data[0]\n",
    "\n",
    "validation_images = read_csv_as_list('lists/validation.csv') + read_csv_as_list('lists/test.csv')"
   ]
  },
  {
   "cell_type": "code",
   "execution_count": 63,
   "metadata": {},
   "outputs": [
    {
     "name": "stdout",
     "output_type": "stream",
     "text": [
      "384\n",
      "384\n",
      "80\n"
     ]
    }
   ],
   "source": [
    "print(len(resized_images))\n",
    "print(len(mask_images))\n",
    "print(len(validation_images))"
   ]
  },
  {
   "cell_type": "code",
   "execution_count": 65,
   "metadata": {},
   "outputs": [
    {
     "data": {
      "text/plain": [
       "['data/r_imgs/R_AI-25-1-M1-20x-001.tif',\n",
       " 'data/r_imgs/R_AI-25-1-M1-20x-002.tif',\n",
       " 'data/r_imgs/R_AI-25-1-M1-20x-003.tif',\n",
       " 'data/r_imgs/R_AI-25-1-M1-20x-004.tif',\n",
       " 'data/r_imgs/R_AI-25-1-M1-20x-005.tif',\n",
       " 'data/r_imgs/R_AI-25-1-M1-20x-006.tif',\n",
       " 'data/r_imgs/R_AI-25-1-M1-20x-007.tif',\n",
       " 'data/r_imgs/R_AI-25-1-M1-20x-008.tif',\n",
       " 'data/r_imgs/R_AI-25-1-M1-20x-009.tif',\n",
       " 'data/r_imgs/R_AI-25-1-M1-20x-010.tif',\n",
       " 'data/r_imgs/R_AI-25-1-M1-20x-011.tif',\n",
       " 'data/r_imgs/R_AI-25-1-M1-20x-012.tif',\n",
       " 'data/r_imgs/R_AI-25-1-M1-20x-013.tif',\n",
       " 'data/r_imgs/R_AI-25-1-M1-20x-014.tif',\n",
       " 'data/r_imgs/R_AI-25-1-M1-20x-015.tif',\n",
       " 'data/r_imgs/R_AI-25-1-M1-20x-016.tif',\n",
       " 'data/r_imgs/R_AI-25-1-M1-20x-017.tif',\n",
       " 'data/r_imgs/R_AI-25-1-M2-20x-001.tif',\n",
       " 'data/r_imgs/R_AI-25-1-M2-20x-002.tif',\n",
       " 'data/r_imgs/R_AI-25-1-M2-20x-003.tif',\n",
       " 'data/r_imgs/R_AI-25-1-M2-20x-004.tif',\n",
       " 'data/r_imgs/R_AI-25-1-M2-20x-005.tif',\n",
       " 'data/r_imgs/R_AI-25-1-M2-20x-006.tif',\n",
       " 'data/r_imgs/R_AI-25-1-M2-20x-007.tif',\n",
       " 'data/r_imgs/R_AI-25-1-M2-20x-008.tif',\n",
       " 'data/r_imgs/R_AI-25-1-M2-20x-009.tif',\n",
       " 'data/r_imgs/R_AI-25-1-M2-20x-010.tif',\n",
       " 'data/r_imgs/R_AI-25-1-M2-20x-011.tif',\n",
       " 'data/r_imgs/R_AI-25-1-M2-20x-012.tif',\n",
       " 'data/r_imgs/R_AI-25-1-M2-20x-013.tif',\n",
       " 'data/r_imgs/R_AI-25-1-M2-20x-014.tif',\n",
       " 'data/r_imgs/R_AI-25-1-M2-20x-015.tif',\n",
       " 'data/r_imgs/R_AI-25-1-M2-20x-016.tif',\n",
       " 'data/r_imgs/R_AI-25-1-M2-20x-017.tif',\n",
       " 'data/r_imgs/R_AI-25-1-M2-20x-018.tif',\n",
       " 'data/r_imgs/R_AI-25-1-M2-20x-019.tif',\n",
       " 'data/r_imgs/R_AI-25-1-M2-20x-020.tif',\n",
       " 'data/r_imgs/R_AI-25-1-M2-20x-021.tif',\n",
       " 'data/r_imgs/R_AI-25-1-M2-20x-022.tif',\n",
       " 'data/r_imgs/R_AI-25-1-M2-20x-023.tif',\n",
       " 'data/r_imgs/R_AI-25-2-M1-20x-001.tif',\n",
       " 'data/r_imgs/R_AI-25-2-M1-20x-002.tif',\n",
       " 'data/r_imgs/R_AI-25-2-M1-20x-003.tif',\n",
       " 'data/r_imgs/R_AI-25-2-M1-20x-004.tif',\n",
       " 'data/r_imgs/R_AI-25-2-M1-20x-005.tif',\n",
       " 'data/r_imgs/R_AI-25-2-M1-20x-006.tif',\n",
       " 'data/r_imgs/R_AI-25-2-M1-20x-007.tif',\n",
       " 'data/r_imgs/R_AI-25-2-M1-20x-008.tif',\n",
       " 'data/r_imgs/R_AI-25-2-M1-20x-009.tif',\n",
       " 'data/r_imgs/R_AI-25-2-M1-20x-010.tif',\n",
       " 'data/r_imgs/R_AI-25-2-M1-20x-011.tif',\n",
       " 'data/r_imgs/R_AI-25-2-M1-20x-012.tif',\n",
       " 'data/r_imgs/R_AI-25-2-M1-20x-013.tif',\n",
       " 'data/r_imgs/R_AI-25-2-M1-20x-014.tif',\n",
       " 'data/r_imgs/R_AI-25-2-M1-20x-015.tif',\n",
       " 'data/r_imgs/R_AI-25-2-M1-20x-016.tif',\n",
       " 'data/r_imgs/R_AI-25-2-M1-20x-017.tif',\n",
       " 'data/r_imgs/R_AI-25-2-M1-20x-018.tif',\n",
       " 'data/r_imgs/R_AI-25-2-M1-20x-019.tif',\n",
       " 'data/r_imgs/R_AI-25-2-M1-20x-020.tif',\n",
       " 'data/r_imgs/R_AI-25-2-M1-20x-021.tif',\n",
       " 'data/r_imgs/R_AI-25-2-M1-20x-022.tif',\n",
       " 'data/r_imgs/R_AI-25-2-M1-20x-023.tif',\n",
       " 'data/r_imgs/R_AI-25-2-M2-20x-001.tif',\n",
       " 'data/r_imgs/R_AI-25-2-M2-20x-002.tif',\n",
       " 'data/r_imgs/R_AI-25-2-M2-20x-003.tif',\n",
       " 'data/r_imgs/R_AI-25-2-M2-20x-004.tif',\n",
       " 'data/r_imgs/R_AI-25-2-M2-20x-005.tif',\n",
       " 'data/r_imgs/R_AI-25-2-M2-20x-006.tif',\n",
       " 'data/r_imgs/R_AI-25-2-M2-20x-007.tif',\n",
       " 'data/r_imgs/R_AI-25-2-M2-20x-008.tif',\n",
       " 'data/r_imgs/R_AI-25-2-M2-20x-009.tif',\n",
       " 'data/r_imgs/R_AI-25-2-M2-20x-010.tif',\n",
       " 'data/r_imgs/R_AI-25-2-M2-20x-011.tif',\n",
       " 'data/r_imgs/R_AI-25-2-M2-20x-012.tif',\n",
       " 'data/r_imgs/R_AI-25-2-M2-20x-013.tif',\n",
       " 'data/r_imgs/R_AI-25-2-M2-20x-014.tif',\n",
       " 'data/r_imgs/R_AI-25-2-M2-20x-015.tif',\n",
       " 'data/r_imgs/R_AI-25-3-M1-20x-001.tif',\n",
       " 'data/r_imgs/R_AI-25-3-M1-20x-002.tif',\n",
       " 'data/r_imgs/R_AI-25-3-M1-20x-003.tif',\n",
       " 'data/r_imgs/R_AI-25-3-M1-20x-004.tif',\n",
       " 'data/r_imgs/R_AI-25-3-M1-20x-005.tif',\n",
       " 'data/r_imgs/R_AI-25-3-M1-20x-006.tif',\n",
       " 'data/r_imgs/R_AI-25-3-M1-20x-007.tif',\n",
       " 'data/r_imgs/R_AI-25-3-M1-20x-008.tif',\n",
       " 'data/r_imgs/R_AI-25-3-M1-20x-009.tif',\n",
       " 'data/r_imgs/R_AI-25-3-M1-20x-010.tif',\n",
       " 'data/r_imgs/R_AI-25-3-M1-20x-011.tif',\n",
       " 'data/r_imgs/R_AI-25-3-M1-20x-012.tif',\n",
       " 'data/r_imgs/R_AI-25-3-M1-20x-013.tif',\n",
       " 'data/r_imgs/R_AI-25-3-M1-20x-014.tif',\n",
       " 'data/r_imgs/R_AI-25-3-M1-20x-015.tif',\n",
       " 'data/r_imgs/R_AI-25-3-M1-20x-016.tif',\n",
       " 'data/r_imgs/R_AI-25-3-M1-20x-017.tif',\n",
       " 'data/r_imgs/R_AI-25-3-M1-20x-018.tif',\n",
       " 'data/r_imgs/R_AI-25-3-M1-20x-019.tif',\n",
       " 'data/r_imgs/R_AI-25-3-M1-20x-020.tif',\n",
       " 'data/r_imgs/R_AI-25-3-M1-20x-021.tif',\n",
       " 'data/r_imgs/R_AI-25-3-M1-20x-022.tif',\n",
       " 'data/r_imgs/R_AI-25-3-M1-20x-023.tif',\n",
       " 'data/r_imgs/R_AI-25-3-M1-20x-024.tif',\n",
       " 'data/r_imgs/R_AI-25-3-M1-20x-025.tif',\n",
       " 'data/r_imgs/R_AI-25-3-M2-20x-001.tif',\n",
       " 'data/r_imgs/R_AI-25-3-M2-20x-002.tif',\n",
       " 'data/r_imgs/R_AI-25-3-M2-20x-003.tif',\n",
       " 'data/r_imgs/R_AI-25-3-M2-20x-004.tif',\n",
       " 'data/r_imgs/R_AI-25-3-M2-20x-005.tif',\n",
       " 'data/r_imgs/R_AI-25-3-M2-20x-006.tif',\n",
       " 'data/r_imgs/R_AI-25-3-M2-20x-007.tif',\n",
       " 'data/r_imgs/R_AI-25-3-M2-20x-008.tif',\n",
       " 'data/r_imgs/R_AI-25-3-M2-20x-009.tif',\n",
       " 'data/r_imgs/R_AI-25-3-M2-20x-010.tif',\n",
       " 'data/r_imgs/R_AI-25-3-M2-20x-011.tif',\n",
       " 'data/r_imgs/R_AI-25-3-M2-20x-012.tif',\n",
       " 'data/r_imgs/R_AI-25-3-M2-20x-013.tif',\n",
       " 'data/r_imgs/R_AI-25-3-M2-20x-014.tif',\n",
       " 'data/r_imgs/R_AI-25-3-M2-20x-015.tif',\n",
       " 'data/r_imgs/R_AI-25-3-M2-20x-016.tif',\n",
       " 'data/r_imgs/R_AI-25-3-M2-20x-017.tif',\n",
       " 'data/r_imgs/R_AI-25-3-M2-20x-018.tif',\n",
       " 'data/r_imgs/R_AI-25-3-M2-20x-019.tif',\n",
       " 'data/r_imgs/R_AI-25-3-M2-20x-020.tif',\n",
       " 'data/r_imgs/R_AI-25-3-M2-20x-021.tif',\n",
       " 'data/r_imgs/R_AI-25-3-M2-20x-022.tif',\n",
       " 'data/r_imgs/R_AI-25-3-M2-20x-023.tif',\n",
       " 'data/r_imgs/R_AI-25-3-M2-20x-024.tif',\n",
       " 'data/r_imgs/R_AI-25-3-M2-20x-025.tif',\n",
       " 'data/r_imgs/R_AI-25-3-M2-20x-026.tif',\n",
       " 'data/r_imgs/R_AI-25-3-M2-20x-027.tif',\n",
       " 'data/r_imgs/R_AI-25-3-M2-20x-028.tif',\n",
       " 'data/r_imgs/R_AI-25-3-M2-20x-029.tif',\n",
       " 'data/r_imgs/R_AI-25-3-M2-20x-030.tif',\n",
       " 'data/r_imgs/R_AI-25-3-M2-20x-031.tif',\n",
       " 'data/r_imgs/R_AI-25-3-M2-20x-032.tif',\n",
       " 'data/r_imgs/R_AI-25-3-M2-20x-033.tif',\n",
       " 'data/r_imgs/R_AI-25-3-M2-20x-034.tif',\n",
       " 'data/r_imgs/R_AI-25-3-M2-20x-035.tif',\n",
       " 'data/r_imgs/R_AI-25-3-M2-20x-036.tif',\n",
       " 'data/r_imgs/R_AI-25-3-M2-20x-037.tif',\n",
       " 'data/r_imgs/R_AI-25-3-M2-20x-038.tif',\n",
       " 'data/r_imgs/R_AI-25-3-M2-20x-039.tif',\n",
       " 'data/r_imgs/R_AI-25-3-M2-20x-040.tif',\n",
       " 'data/r_imgs/R_AI-25-3-M2-20x-041.tif',\n",
       " 'data/r_imgs/R_AI-25-3-M2-20x-042.tif',\n",
       " 'data/r_imgs/R_AI-25-4-M1-20x-001.tif',\n",
       " 'data/r_imgs/R_AI-25-4-M1-20x-002.tif',\n",
       " 'data/r_imgs/R_AI-25-4-M1-20x-003.tif',\n",
       " 'data/r_imgs/R_AI-25-4-M1-20x-004.tif',\n",
       " 'data/r_imgs/R_AI-25-4-M1-20x-005.tif',\n",
       " 'data/r_imgs/R_AI-25-4-M1-20x-006.tif',\n",
       " 'data/r_imgs/R_AI-25-4-M1-20x-007.tif',\n",
       " 'data/r_imgs/R_AI-25-4-M1-20x-008.tif',\n",
       " 'data/r_imgs/R_AI-25-4-M1-20x-009.tif',\n",
       " 'data/r_imgs/R_AI-25-4-M1-20x-010.tif',\n",
       " 'data/r_imgs/R_AI-25-4-M1-20x-011.tif',\n",
       " 'data/r_imgs/R_AI-25-4-M1-20x-012.tif',\n",
       " 'data/r_imgs/R_AI-25-4-M1-20x-013.tif',\n",
       " 'data/r_imgs/R_AI-25-4-M1-20x-014.tif',\n",
       " 'data/r_imgs/R_AI-25-4-M1-20x-015.tif',\n",
       " 'data/r_imgs/R_AI-25-4-M2-20x-001.tif',\n",
       " 'data/r_imgs/R_AI-25-4-M2-20x-002.tif',\n",
       " 'data/r_imgs/R_AI-25-4-M2-20x-003.tif',\n",
       " 'data/r_imgs/R_AI-25-4-M2-20x-004.tif',\n",
       " 'data/r_imgs/R_AI-25-4-M2-20x-005.tif',\n",
       " 'data/r_imgs/R_AI-25-4-M2-20x-006.tif',\n",
       " 'data/r_imgs/R_AI-25-4-M2-20x-007.tif',\n",
       " 'data/r_imgs/R_AI-25-4-M2-20x-008.tif',\n",
       " 'data/r_imgs/R_AI-25-4-M2-20x-009.tif',\n",
       " 'data/r_imgs/R_AI-25-4-M2-20x-010.tif',\n",
       " 'data/r_imgs/R_AI-25-4-M2-20x-011.tif',\n",
       " 'data/r_imgs/R_AI-25-4-M2-20x-012.tif',\n",
       " 'data/r_imgs/R_AI-25-4-M2-20x-013.tif',\n",
       " 'data/r_imgs/R_AI-25-4-M2-20x-014.tif',\n",
       " 'data/r_imgs/R_AI-25-4-M2-20x-015.tif',\n",
       " 'data/r_imgs/R_AI-25-4-M2-20x-016.tif',\n",
       " 'data/r_imgs/R_AI-25-4-M2-20x-017.tif',\n",
       " 'data/r_imgs/R_AI-25-4-M2-20x-018.tif',\n",
       " 'data/r_imgs/R_AI-25-4-M2-20x-019.tif',\n",
       " 'data/r_imgs/R_AI-25-4-M2-20x-020.tif',\n",
       " 'data/r_imgs/R_AI-25-4-M2-20x-021.tif',\n",
       " 'data/r_imgs/R_AI-25-4-M2-20x-022.tif',\n",
       " 'data/r_imgs/R_AI-25-4-M2-20x-023.tif',\n",
       " 'data/r_imgs/R_AI-25-4-M2-20x-024.tif',\n",
       " 'data/r_imgs/R_AI-25-5-M1-20x-001.tif',\n",
       " 'data/r_imgs/R_AI-25-5-M1-20x-002.tif',\n",
       " 'data/r_imgs/R_AI-25-5-M1-20x-003.tif',\n",
       " 'data/r_imgs/R_AI-25-5-M1-20x-004.tif',\n",
       " 'data/r_imgs/R_AI-25-5-M1-20x-005.tif',\n",
       " 'data/r_imgs/R_AI-25-5-M1-20x-006.tif',\n",
       " 'data/r_imgs/R_AI-25-5-M1-20x-007.tif',\n",
       " 'data/r_imgs/R_AI-25-5-M1-20x-008.tif',\n",
       " 'data/r_imgs/R_AI-25-5-M1-20x-009.tif',\n",
       " 'data/r_imgs/R_AI-25-5-M1-20x-010.tif',\n",
       " 'data/r_imgs/R_AI-25-5-M1-20x-011.tif',\n",
       " 'data/r_imgs/R_AI-25-5-M1-20x-012.tif',\n",
       " 'data/r_imgs/R_AI-25-5-M1-20x-013.tif',\n",
       " 'data/r_imgs/R_AI-25-5-M1-20x-014.tif',\n",
       " 'data/r_imgs/R_AI-25-5-M1-20x-015.tif',\n",
       " 'data/r_imgs/R_AI-25-5-M2-20x-001.tif',\n",
       " 'data/r_imgs/R_AI-25-5-M2-20x-002.tif',\n",
       " 'data/r_imgs/R_AI-25-5-M2-20x-003.tif',\n",
       " 'data/r_imgs/R_AI-25-5-M2-20x-004.tif',\n",
       " 'data/r_imgs/R_AI-25-5-M2-20x-005.tif',\n",
       " 'data/r_imgs/R_AI-25-5-M2-20x-006.tif',\n",
       " 'data/r_imgs/R_AI-25-5-M2-20x-007.tif',\n",
       " 'data/r_imgs/R_AI-25-5-M2-20x-008.tif',\n",
       " 'data/r_imgs/R_AI-25-5-M2-20x-009.tif',\n",
       " 'data/r_imgs/R_AI-25-5-M2-20x-010.tif',\n",
       " 'data/r_imgs/R_AI-25-5-M2-20x-011.tif',\n",
       " 'data/r_imgs/R_AI-25-5-M2-20x-012.tif',\n",
       " 'data/r_imgs/R_AI-25-6-M1-20x-001.tif',\n",
       " 'data/r_imgs/R_AI-25-6-M1-20x-002.tif',\n",
       " 'data/r_imgs/R_AI-25-6-M1-20x-003.tif',\n",
       " 'data/r_imgs/R_AI-25-6-M1-20x-004.tif',\n",
       " 'data/r_imgs/R_AI-25-6-M1-20x-005.tif',\n",
       " 'data/r_imgs/R_AI-25-6-M1-20x-006.tif',\n",
       " 'data/r_imgs/R_AI-25-6-M1-20x-007.tif',\n",
       " 'data/r_imgs/R_AI-25-6-M1-20x-008.tif',\n",
       " 'data/r_imgs/R_AI-25-6-M1-20x-009.tif',\n",
       " 'data/r_imgs/R_AI-25-6-M1-20x-010.tif',\n",
       " 'data/r_imgs/R_AI-25-6-M1-20x-011.tif',\n",
       " 'data/r_imgs/R_AI-25-6-M1-20x-012.tif',\n",
       " 'data/r_imgs/R_AI-25-6-M1-20x-013.tif',\n",
       " 'data/r_imgs/R_AI-25-6-M1-20x-014.tif',\n",
       " 'data/r_imgs/R_AI-25-6-M1-20x-015.tif',\n",
       " 'data/r_imgs/R_AI-25-6-M1-20x-016.tif',\n",
       " 'data/r_imgs/R_AI-25-6-M1-20x-017.tif',\n",
       " 'data/r_imgs/R_AI-25-6-M1-20x-018.tif',\n",
       " 'data/r_imgs/R_AI-25-6-M1-20x-019.tif',\n",
       " 'data/r_imgs/R_AI-25-6-M1-20x-020.tif',\n",
       " 'data/r_imgs/R_AI-25-6-M1-20x-021.tif',\n",
       " 'data/r_imgs/R_AI-25-6-M1-20x-022.tif',\n",
       " 'data/r_imgs/R_AI-25-6-M1-20x-023.tif',\n",
       " 'data/r_imgs/R_AI-25-6-M1-20x-024.tif',\n",
       " 'data/r_imgs/R_AI-25-6-M1-20x-025.tif',\n",
       " 'data/r_imgs/R_AI-25-6-M1-20x-026.tif',\n",
       " 'data/r_imgs/R_AI-25-6-M1-20x-027.tif',\n",
       " 'data/r_imgs/R_AI-25-6-M1-20x-028.tif',\n",
       " 'data/r_imgs/R_AI-25-6-M1-20x-029.tif',\n",
       " 'data/r_imgs/R_AI-25-6-M1-20x-030.tif',\n",
       " 'data/r_imgs/R_AI-25-6-M1-20x-031.tif',\n",
       " 'data/r_imgs/R_AI-25-6-M1-20x-032.tif',\n",
       " 'data/r_imgs/R_AI-25-6-M1-20x-033.tif',\n",
       " 'data/r_imgs/R_AI-25-6-M1-20x-034.tif',\n",
       " 'data/r_imgs/R_AI-25-6-M1-20x-035.tif',\n",
       " 'data/r_imgs/R_AI-25-6-M1-20x-036.tif',\n",
       " 'data/r_imgs/R_AI-25-6-M1-20x-037.tif',\n",
       " 'data/r_imgs/R_AI-25-6-M1-20x-038.tif',\n",
       " 'data/r_imgs/R_AI-25-6-M1-20x-039.tif',\n",
       " 'data/r_imgs/R_AI-25-6-M1-20x-040.tif',\n",
       " 'data/r_imgs/R_AI-25-6-M1-20x-041.tif',\n",
       " 'data/r_imgs/R_AI-25-6-M1-20x-042.tif',\n",
       " 'data/r_imgs/R_AI-25-6-M1-20x-043.tif',\n",
       " 'data/r_imgs/R_AI-25-6-M1-20x-044.tif',\n",
       " 'data/r_imgs/R_AI-25-6-M1-20x-045.tif',\n",
       " 'data/r_imgs/R_AI-25-6-M1-20x-046.tif',\n",
       " 'data/r_imgs/R_AI-25-6-M1-20x-047.tif',\n",
       " 'data/r_imgs/R_AI-25-6-M1-20x-048.tif',\n",
       " 'data/r_imgs/R_AI-25-6-M1-20x-049.tif',\n",
       " 'data/r_imgs/R_AI-25-6-M1-20x-050.tif',\n",
       " 'data/r_imgs/R_AI-25-6-M1-20x-051.tif',\n",
       " 'data/r_imgs/R_AI-25-6-M1-20x-052.tif',\n",
       " 'data/r_imgs/R_AI-25-6-M1-20x-053.tif',\n",
       " 'data/r_imgs/R_AI-25-6-M2-20x-001.tif',\n",
       " 'data/r_imgs/R_AI-25-6-M2-20x-002.tif',\n",
       " 'data/r_imgs/R_AI-25-6-M2-20x-003.tif',\n",
       " 'data/r_imgs/R_AI-25-6-M2-20x-004.tif',\n",
       " 'data/r_imgs/R_AI-25-6-M2-20x-005.tif',\n",
       " 'data/r_imgs/R_AI-25-6-M2-20x-006.tif',\n",
       " 'data/r_imgs/R_AI-25-6-M2-20x-007.tif',\n",
       " 'data/r_imgs/R_AI-25-6-M2-20x-008.tif',\n",
       " 'data/r_imgs/R_AI-25-6-M2-20x-009.tif',\n",
       " 'data/r_imgs/R_AI-25-6-M2-20x-010.tif',\n",
       " 'data/r_imgs/R_AI-25-6-M2-20x-011.tif',\n",
       " 'data/r_imgs/R_AI-25-6-M2-20x-012.tif',\n",
       " 'data/r_imgs/R_AI-25-6-M2-20x-013.tif',\n",
       " 'data/r_imgs/R_AI-25-6-M2-20x-014.tif',\n",
       " 'data/r_imgs/R_AI-25-6-M2-20x-015.tif',\n",
       " 'data/r_imgs/R_AI-25-6-M2-20x-016.tif',\n",
       " 'data/r_imgs/R_AI-25-6-M2-20x-017.tif',\n",
       " 'data/r_imgs/R_AI-25-6-M2-20x-018.tif',\n",
       " 'data/r_imgs/R_AI-25-6-M2-20x-019.tif',\n",
       " 'data/r_imgs/R_AI-25-6-M2-20x-020.tif',\n",
       " 'data/r_imgs/R_AI-25-6-M2-20x-021.tif',\n",
       " 'data/r_imgs/R_AI-25-6-M2-20x-022.tif',\n",
       " 'data/r_imgs/R_AI-25-6-M2-20x-023.tif',\n",
       " 'data/r_imgs/R_AI-25-6-M2-20x-024.tif',\n",
       " 'data/r_imgs/R_AI-25-6-M2-20x-025.tif',\n",
       " 'data/r_imgs/R_AI-25-6-M2-20x-026.tif',\n",
       " 'data/r_imgs/R_AI-25-6-M2-20x-027.tif',\n",
       " 'data/r_imgs/R_AI-25-6-M2-20x-028.tif',\n",
       " 'data/r_imgs/R_AI-25-6-M2-20x-029.tif',\n",
       " 'data/r_imgs/R_AI-25-6-M2-20x-030.tif',\n",
       " 'data/r_imgs/R_AI-25-6-M2-20x-031.tif',\n",
       " 'data/r_imgs/R_AI-25-6-M2-20x-032.tif',\n",
       " 'data/r_imgs/R_AI-25-6-M2-20x-033.tif',\n",
       " 'data/r_imgs/R_AI-25-6-M2-20x-034.tif',\n",
       " 'data/r_imgs/R_AI-25-6-M2-20x-035.tif',\n",
       " 'data/r_imgs/R_AI-25-6-M2-20x-036.tif',\n",
       " 'data/r_imgs/R_AI-25-6-M2-20x-037.tif',\n",
       " 'data/r_imgs/R_AI-25-6-M2-20x-038.tif',\n",
       " 'data/r_imgs/R_AI-25-6-M2-20x-039.tif',\n",
       " 'data/r_imgs/R_AI-25-6-M2-20x-040.tif',\n",
       " 'data/r_imgs/R_AI-25-6-M2-20x-041.tif',\n",
       " 'data/r_imgs/R_AI-25-6-M2-20x-042.tif',\n",
       " 'data/r_imgs/R_AI-25-6-M2-20x-043.tif',\n",
       " 'data/r_imgs/R_AI-25-6-M2-20x-044.tif',\n",
       " 'data/r_imgs/R_AI-25-6-M2-20x-045.tif',\n",
       " 'data/r_imgs/R_AI-35-1-M1-20x-001.tif',\n",
       " 'data/r_imgs/R_AI-35-1-M1-20x-002.tif',\n",
       " 'data/r_imgs/R_AI-35-1-M1-20x-003.tif',\n",
       " 'data/r_imgs/R_AI-35-1-M1-20x-004.tif',\n",
       " 'data/r_imgs/R_AI-35-1-M1-20x-005.tif',\n",
       " 'data/r_imgs/R_AI-35-1-M1-20x-006.tif',\n",
       " 'data/r_imgs/R_AI-35-1-M1-20x-007.tif',\n",
       " 'data/r_imgs/R_AI-35-1-M1-20x-008.tif',\n",
       " 'data/r_imgs/R_AI-35-1-M1-20x-009.tif',\n",
       " 'data/r_imgs/R_AI-35-1-M1-20x-010.tif',\n",
       " 'data/r_imgs/R_AI-35-1-M1-20x-011.tif',\n",
       " 'data/r_imgs/R_AI-35-1-M1-20x-012.tif',\n",
       " 'data/r_imgs/R_AI-35-1-M1-20x-013.tif',\n",
       " 'data/r_imgs/R_AI-35-1-M1-20x-014.tif',\n",
       " 'data/r_imgs/R_AI-35-1-M1-20x-015.tif',\n",
       " 'data/r_imgs/R_AI-35-1-M1-20x-016.tif',\n",
       " 'data/r_imgs/R_AI-35-1-M1-20x-017.tif',\n",
       " 'data/r_imgs/R_AI-35-1-M1-20x-018.tif',\n",
       " 'data/r_imgs/R_AI-35-1-M1-20x-019.tif',\n",
       " 'data/r_imgs/R_AI-35-1-M1-20x-020.tif',\n",
       " 'data/r_imgs/R_AI-35-1-M1-20x-021.tif',\n",
       " 'data/r_imgs/R_AI-35-1-M1-20x-022.tif',\n",
       " 'data/r_imgs/R_AI-35-1-M1-20x-023.tif',\n",
       " 'data/r_imgs/R_AI-35-1-M1-20x-024.tif',\n",
       " 'data/r_imgs/R_AI-35-1-M1-20x-025.tif',\n",
       " 'data/r_imgs/R_AI-35-1-M1-20x-026.tif',\n",
       " 'data/r_imgs/R_AI-35-1-M1-20x-027.tif',\n",
       " 'data/r_imgs/R_AI-35-1-M1-20x-028.tif',\n",
       " 'data/r_imgs/R_AI-35-1-M1-20x-029.tif',\n",
       " 'data/r_imgs/R_AI-35-1-M1-20x-030.tif',\n",
       " 'data/r_imgs/R_AI-35-1-M2-20x-001.tif',\n",
       " 'data/r_imgs/R_AI-35-1-M2-20x-002.tif',\n",
       " 'data/r_imgs/R_AI-35-1-M2-20x-003.tif',\n",
       " 'data/r_imgs/R_AI-35-1-M2-20x-004.tif',\n",
       " 'data/r_imgs/R_AI-35-1-M2-20x-005.tif',\n",
       " 'data/r_imgs/R_AI-35-1-M2-20x-006.tif',\n",
       " 'data/r_imgs/R_AI-35-1-M2-20x-007.tif',\n",
       " 'data/r_imgs/R_AI-35-1-M2-20x-008.tif',\n",
       " 'data/r_imgs/R_AI-35-1-M2-20x-009.tif',\n",
       " 'data/r_imgs/R_AI-35-1-M2-20x-010.tif',\n",
       " 'data/r_imgs/R_AI-35-1-M2-20x-011.tif',\n",
       " 'data/r_imgs/R_AI-35-1-M2-20x-012.tif',\n",
       " 'data/r_imgs/R_AI-35-1-M2-20x-013.tif',\n",
       " 'data/r_imgs/R_AI-35-1-M2-20x-014.tif',\n",
       " 'data/r_imgs/R_AI-35-1-M2-20x-015.tif',\n",
       " 'data/r_imgs/R_AI-35-1-M2-20x-016.tif',\n",
       " 'data/r_imgs/R_AI-35-1-M2-20x-017.tif',\n",
       " 'data/r_imgs/R_AI-35-1-M2-20x-018.tif',\n",
       " 'data/r_imgs/R_AI-35-1-M2-20x-019.tif',\n",
       " 'data/r_imgs/R_AI-35-1-M2-20x-020.tif',\n",
       " 'data/r_imgs/R_AI-35-1-M2-20x-021.tif',\n",
       " 'data/r_imgs/R_AI-35-1-M2-20x-022.tif',\n",
       " 'data/r_imgs/R_AI-35-1-M2-20x-023.tif',\n",
       " 'data/r_imgs/R_AI-35-1-M2-20x-024.tif',\n",
       " 'data/r_imgs/R_AI-35-1-M2-20x-025.tif',\n",
       " 'data/r_imgs/R_AI-35-1-M2-20x-026.tif',\n",
       " 'data/r_imgs/R_AI-35-1a-M1-20x-001.tif',\n",
       " 'data/r_imgs/R_AI-35-1a-M1-20x-002.tif',\n",
       " 'data/r_imgs/R_AI-35-1a-M2-20x-001.tif',\n",
       " 'data/r_imgs/R_AI-35-1a-M2-20x-002.tif',\n",
       " 'data/r_imgs/R_AI-35-2-M1-20x-001.tif',\n",
       " 'data/r_imgs/R_AI-35-2-M1-20x-002.tif',\n",
       " 'data/r_imgs/R_AI-35-2-M1-20x-003.tif',\n",
       " 'data/r_imgs/R_AI-35-2-M1-20x-004.tif',\n",
       " 'data/r_imgs/R_AI-35-2-M2-20x-001.tif',\n",
       " 'data/r_imgs/R_AI-35-2-M2-20x-002.tif',\n",
       " 'data/r_imgs/R_AI-35-2-M2-20x-003.tif',\n",
       " 'data/r_imgs/R_AI-35-2a-M1-20x-001.tif',\n",
       " 'data/r_imgs/R_AI-35-3-M1-20x-001.tif',\n",
       " 'data/r_imgs/R_AI-35-3-M1-20x-002.tif',\n",
       " 'data/r_imgs/R_AI-35-3-M1-20x-003.tif',\n",
       " 'data/r_imgs/R_AI-35-3-M1-20x-004.tif',\n",
       " 'data/r_imgs/R_AI-35-3-M1-20x-005.tif',\n",
       " 'data/r_imgs/R_AI-35-3-M1-20x-006.tif',\n",
       " 'data/r_imgs/R_AI-35-3-M1-20x-007.tif']"
      ]
     },
     "execution_count": 65,
     "metadata": {},
     "output_type": "execute_result"
    }
   ],
   "source": [
    "resized_images"
   ]
  },
  {
   "cell_type": "code",
   "execution_count": 64,
   "metadata": {},
   "outputs": [],
   "source": [
    "for image_index in range(10):\n",
    "    if resized_images[image_index][15:-4] in validation_images:\n",
    "        print('ignored')"
   ]
  },
  {
   "cell_type": "code",
   "execution_count": 52,
   "metadata": {},
   "outputs": [
    {
     "data": {
      "text/plain": [
       "'workdata/train/imgs/R_AI-25-1-M1-20x-010_04.tif'"
      ]
     },
     "execution_count": 52,
     "metadata": {},
     "output_type": "execute_result"
    }
   ],
   "source": [
    "new_filename = 'workdata/train/imgs/{}_{:02d}.tif'.format(resized_images[image_index][12:-4], 4)\n",
    "new_filename"
   ]
  },
  {
   "cell_type": "code",
   "execution_count": 53,
   "metadata": {},
   "outputs": [
    {
     "name": "stdout",
     "output_type": "stream",
     "text": [
      "data/masks/M_AI-25-1-M1-20x-001.png\n",
      "data/masks/M_AI-25-1-M1-20x-002.png\n",
      "data/masks/M_AI-25-1-M1-20x-003.png\n",
      "data/masks/M_AI-25-1-M1-20x-004.png\n",
      "data/masks/M_AI-25-1-M1-20x-005.png\n",
      "data/masks/M_AI-25-1-M1-20x-006.png\n",
      "data/masks/M_AI-25-1-M1-20x-007.png\n",
      "data/masks/M_AI-25-1-M1-20x-008.png\n",
      "data/masks/M_AI-25-1-M1-20x-009.png\n",
      "data/masks/M_AI-25-1-M1-20x-010.png\n"
     ]
    }
   ],
   "source": [
    "for masks_index in range(10):\n",
    "    if mask_images[masks_index][22:-4] in validation_images:\n",
    "        continue\n",
    "\n",
    "    #mask = imread(mask_images[masks_index])\n",
    "    #mask = Image.open(mask_images[masks_index])\n",
    "    print(mask_images[masks_index])\n",
    "    #augmented = transform_imgs(mask)"
   ]
  },
  {
   "cell_type": "code",
   "execution_count": 57,
   "metadata": {},
   "outputs": [
    {
     "data": {
      "text/plain": [
       "'workdata/train/mask/M_AI-25-1-M1-20x-010_03.png'"
      ]
     },
     "execution_count": 57,
     "metadata": {},
     "output_type": "execute_result"
    }
   ],
   "source": [
    "new_filename = 'workdata/train/mask/{}_{:02d}.png'.format(mask_images[masks_index][11:-4], 3)\n",
    "new_filename"
   ]
  }
 ],
 "metadata": {
  "kernelspec": {
   "display_name": "base",
   "language": "python",
   "name": "python3"
  },
  "language_info": {
   "codemirror_mode": {
    "name": "ipython",
    "version": 3
   },
   "file_extension": ".py",
   "mimetype": "text/x-python",
   "name": "python",
   "nbconvert_exporter": "python",
   "pygments_lexer": "ipython3",
   "version": "3.7.6"
  },
  "orig_nbformat": 4
 },
 "nbformat": 4,
 "nbformat_minor": 2
}
